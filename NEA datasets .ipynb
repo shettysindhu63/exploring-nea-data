{
 "cells": [
  {
   "cell_type": "markdown",
   "metadata": {
    "deletable": true,
    "editable": true
   },
   "source": [
    "We explore the datasets provided by NEA through the data.gov.sg [developers portal](https://developers.data.gov.sg/).\n",
    "\n",
    "For the weather forecasts and environemntal data, the data parameter retreives all the forecasts issued for the day. The date_time parameter retreives the latest forecast issued as of that time. "
   ]
  },
  {
   "cell_type": "code",
   "execution_count": 3,
   "metadata": {
    "collapsed": false,
    "deletable": true,
    "editable": true
   },
   "outputs": [],
   "source": [
    "# Read the api key\n",
    "key = open(\"data-key.txt\").read()\n",
    "\n",
    "# import library \n",
    "import requests"
   ]
  },
  {
   "cell_type": "markdown",
   "metadata": {
    "deletable": true,
    "editable": true
   },
   "source": [
    "** 2 hour weather forecast ** \n",
    "\n",
    "The latest 2-hour weather forecast retreived half-hourly. Use date_time parameter to retreive the latest forecast issued at that moment in time or use the date parameter to retreive all the forecasts issued for that day. "
   ]
  },
  {
   "cell_type": "code",
   "execution_count": 4,
   "metadata": {
    "collapsed": false,
    "deletable": true,
    "editable": true
   },
   "outputs": [],
   "source": [
    "two_hour_cast = requests.get(\n",
    "                'https://api.data.gov.sg/v1/environment/2-hour-weather-forecast',\n",
    "                 params = {\"date_time\": \"2017-04-12T16:00:00\"},\n",
    "                 headers = {\"api-key\":key}).json()"
   ]
  },
  {
   "cell_type": "code",
   "execution_count": 4,
   "metadata": {
    "collapsed": false,
    "deletable": true,
    "editable": true
   },
   "outputs": [
    {
     "name": "stdout",
     "output_type": "stream",
     "text": [
      "Forecast for Clementi region, next two hours : \n",
      "Cloudy\n"
     ]
    }
   ],
   "source": [
    "# forecast for area : Clementi \n",
    "clementi_location_id = 11\n",
    "print('Forecast for Clementi region, next two hours : ')\n",
    "print(two_hour_cast['items'][0]['forecasts'][11]['forecast'])"
   ]
  },
  {
   "cell_type": "markdown",
   "metadata": {
    "deletable": true,
    "editable": true
   },
   "source": [
    "** 24 hour weather forecast **\n",
    "\n",
    "The latest 24-hour forecast retreived multiple times throughout the day. Use date_time parameter to retreive the latest forecast issued at that moment in time or use the date parameter to retreive all the forecasts issued for that day. \n",
    "This gives the forecast only for major regions (i.e central, east, west, north, south)"
   ]
  },
  {
   "cell_type": "code",
   "execution_count": 5,
   "metadata": {
    "collapsed": true,
    "deletable": true,
    "editable": true
   },
   "outputs": [],
   "source": [
    "# get the latest forecast issued \n",
    "daily_forecast = requests.get(\n",
    "                'https://api.data.gov.sg/v1/environment/24-hour-weather-forecast',\n",
    "                 params = {\"date_time\": \"2017-04-12T16:00:00\"},\n",
    "                 headers = {\"api-key\":key}).json()"
   ]
  },
  {
   "cell_type": "code",
   "execution_count": 6,
   "metadata": {
    "collapsed": false,
    "deletable": true,
    "editable": true
   },
   "outputs": [
    {
     "name": "stdout",
     "output_type": "stream",
     "text": [
      "Forecast for west region: Showers\n",
      "Time period: 2017-04-12T12:00:00+08:00 to 2017-04-12T18:00:00+08:00\n",
      "\n",
      "Forecast for west region: Partly Cloudy (Night)\n",
      "Time period: 2017-04-12T18:00:00+08:00 to 2017-04-13T06:00:00+08:00\n",
      "\n",
      "Forecast for west region: Cloudy\n",
      "Time period: 2017-04-13T06:00:00+08:00 to 2017-04-13T12:00:00+08:00\n",
      "\n"
     ]
    }
   ],
   "source": [
    "# getting the latest forecast for west region for the valid future time periods\n",
    "periods_list = daily_forecast['items'][0]['periods']\n",
    "\n",
    "for i in range(0, len(periods_list)):\n",
    "    print(\"Forecast for west region: \" + periods_list[i]['regions']['west'])\n",
    "    print(\"Time period: \"+ periods_list[i]['time']['start'] + \" to \" + periods_list[i]['time']['end'])\n",
    "    print()"
   ]
  },
  {
   "cell_type": "markdown",
   "metadata": {
    "deletable": true,
    "editable": true
   },
   "source": [
    "** 4 day weather forecast **\n",
    "\n",
    "The latest 4 day weather forecast retreived twice a day from NEA. Returns general forecast for Singapore for the next four days.  "
   ]
  },
  {
   "cell_type": "code",
   "execution_count": 4,
   "metadata": {
    "collapsed": false,
    "deletable": true,
    "editable": true
   },
   "outputs": [],
   "source": [
    "four_day_forecast = requests.get(\n",
    "                'https://api.data.gov.sg/v1/environment/4-day-weather-forecast',\n",
    "                 params = {\"date_time\": \"2017-04-12T16:00:00\"},\n",
    "                 headers = {\"api-key\":key}).json()"
   ]
  },
  {
   "cell_type": "code",
   "execution_count": 8,
   "metadata": {
    "collapsed": false,
    "deletable": true,
    "editable": true
   },
   "outputs": [
    {
     "data": {
      "text/plain": [
       "{'forecasts': [{'date': '2017-04-13',\n",
       "   'forecast': 'Morning thundery showers.',\n",
       "   'relative_humidity': {'high': 95, 'low': 60},\n",
       "   'temperature': {'high': 33, 'low': 24},\n",
       "   'timestamp': '2017-04-13T00:00:00+08:00',\n",
       "   'wind': {'direction': 'VARIABLE', 'speed': {'high': 15, 'low': 5}}},\n",
       "  {'date': '2017-04-14',\n",
       "   'forecast': 'Afternoon thundery showers.',\n",
       "   'relative_humidity': {'high': 95, 'low': 55},\n",
       "   'temperature': {'high': 34, 'low': 24},\n",
       "   'timestamp': '2017-04-14T00:00:00+08:00',\n",
       "   'wind': {'direction': 'ENE', 'speed': {'high': 20, 'low': 10}}},\n",
       "  {'date': '2017-04-15',\n",
       "   'forecast': 'Afternoon thundery showers.',\n",
       "   'relative_humidity': {'high': 95, 'low': 55},\n",
       "   'temperature': {'high': 34, 'low': 24},\n",
       "   'timestamp': '2017-04-15T00:00:00+08:00',\n",
       "   'wind': {'direction': 'ENE', 'speed': {'high': 20, 'low': 10}}},\n",
       "  {'date': '2017-04-16',\n",
       "   'forecast': 'Afternoon thundery showers.',\n",
       "   'relative_humidity': {'high': 95, 'low': 55},\n",
       "   'temperature': {'high': 34, 'low': 24},\n",
       "   'timestamp': '2017-04-16T00:00:00+08:00',\n",
       "   'wind': {'direction': 'VARIABLE', 'speed': {'high': 15, 'low': 10}}}],\n",
       " 'timestamp': '2017-04-12T12:26:00+08:00',\n",
       " 'update_timestamp': '2017-04-12T13:02:09+08:00'}"
      ]
     },
     "execution_count": 8,
     "metadata": {},
     "output_type": "execute_result"
    }
   ],
   "source": [
    "four_day_forecast['items'][0]"
   ]
  },
  {
   "cell_type": "markdown",
   "metadata": {
    "deletable": true,
    "editable": true
   },
   "source": [
    "** Air temperature **\n",
    "\n",
    "Get per-minute readings of air temperature across Singapore. "
   ]
  },
  {
   "cell_type": "code",
   "execution_count": 9,
   "metadata": {
    "collapsed": true,
    "deletable": true,
    "editable": true
   },
   "outputs": [],
   "source": [
    "# Using the date_time parameter \n",
    "# the latest temperature reading as of this time specified in date_time \n",
    "air_temperature_now = requests.get(\n",
    "                'https://api.data.gov.sg/v1/environment/air-temperature',\n",
    "                 params = {\"date_time\": \"2017-04-12T16:00:00\"},\n",
    "                 headers = {\"api-key\":key}).json()"
   ]
  },
  {
   "cell_type": "markdown",
   "metadata": {
    "deletable": true,
    "editable": true
   },
   "source": [
    "#### Finding the closest Station"
   ]
  },
  {
   "cell_type": "code",
   "execution_count": 49,
   "metadata": {
    "collapsed": true,
    "deletable": true,
    "editable": true
   },
   "outputs": [],
   "source": [
    "# Use Haversine formula for getting distance between two locations \n",
    "# implementation from https://rosettacode.org/wiki/Haversine_formula#Python\n",
    "from math import radians, sin, cos, sqrt, asin\n",
    " \n",
    "def haversine(lat1, lon1, lat2, lon2):\n",
    " \n",
    "    R = 6372.8 # Earth radius in kilometers\n",
    "    dLat = radians(lat2 - lat1)\n",
    "    dLon = radians(lon2 - lon1)\n",
    "    lat1 = radians(lat1)\n",
    "    lat2 = radians(lat2)\n",
    "\n",
    "    a = sin(dLat/2)**2 + cos(lat1)*cos(lat2)*sin(dLon/2)**2\n",
    "    c = 2*asin(sqrt(a))\n",
    "\n",
    "    return R * c"
   ]
  },
  {
   "cell_type": "code",
   "execution_count": 50,
   "metadata": {
    "collapsed": false,
    "deletable": true,
    "editable": true
   },
   "outputs": [],
   "source": [
    "# Find the closest station to our current location \n",
    "our_location = [1.298666, 103.772451]\n",
    "\n",
    "station_name = []\n",
    "station_id = []\n",
    "distance = []\n",
    "\n",
    "# find the distance between our locations to the station locations \n",
    "\n",
    "for x in air_temperature_now['metadata']['stations']:\n",
    "    station_name.append(x['name'])\n",
    "    station_id.append(x['id'])\n",
    "    \n",
    "    latitude = x['location']['latitude']\n",
    "    longitude = x['location']['longitude']\n",
    "    \n",
    "    distance.append( haversine(latitude, longitude, our_location[0], our_location[1]) )"
   ]
  },
  {
   "cell_type": "code",
   "execution_count": 61,
   "metadata": {
    "collapsed": false,
    "deletable": true,
    "editable": true
   },
   "outputs": [
    {
     "data": {
      "image/png": "[encoded data removed]",
      "text/plain": [
       "<matplotlib.figure.Figure at 0x8145588>"
      ]
     },
     "metadata": {},
     "output_type": "display_data"
    }
   ],
   "source": [
    "import pylab\n",
    "\n",
    "pylab.figure(1)\n",
    "x = range(len(air_temperature_now['metadata']['stations']))\n",
    "pylab.xticks(x, station_id)\n",
    "pylab.plot(x, distance ,\"g\")\n",
    "\n",
    "pylab.show()"
   ]
  },
  {
   "cell_type": "code",
   "execution_count": 69,
   "metadata": {
    "collapsed": false,
    "deletable": true,
    "editable": true
   },
   "outputs": [
    {
     "name": "stdout",
     "output_type": "stream",
     "text": [
      "Station Name : West Coast Highway\n",
      "Station ID : S116\n"
     ]
    }
   ],
   "source": [
    "# finding the nearest station \n",
    "min_dist = distance.index(min(distance))\n",
    "print('Station Name : ' + station_name[min_dist]) \n",
    "print('Station ID : ' + station_id[min_dist]) "
   ]
  },
  {
   "cell_type": "code",
   "execution_count": 10,
   "metadata": {
    "collapsed": false,
    "deletable": true,
    "editable": true,
    "scrolled": true
   },
   "outputs": [
    {
     "name": "stdout",
     "output_type": "stream",
     "text": [
      "2017-04-12T15:59:59+08:00\n",
      "{'station_id': 'S50', 'value': 30.4}\n"
     ]
    }
   ],
   "source": [
    "# clementi road location id \n",
    "location_id = 2\n",
    "\n",
    "# get the station id for the Clementi Road weather station \n",
    "station_id = air_temperature_now['metadata']['stations'][location_id]['id']\n",
    "\n",
    "# get the air temperature reading for the particular station id\n",
    "print(air_temperature_now['items'][0]['timestamp'])\n",
    "print(air_temperature_now['items'][0]['readings'][location_id])"
   ]
  },
  {
   "cell_type": "code",
   "execution_count": 11,
   "metadata": {
    "collapsed": true,
    "deletable": true,
    "editable": true
   },
   "outputs": [],
   "source": [
    "# Using the date parameter, temperature readings for the whole day\n",
    "air_temperature = requests.get(\n",
    "                'https://api.data.gov.sg/v1/environment/air-temperature',\n",
    "                 params = {\"date\": \"2016-04-12\"},\n",
    "                 headers = {\"api-key\":key}).json()\n",
    "\n",
    "# Note: This request takes more time and responds with message : endpoint request timed out "
   ]
  },
  {
   "cell_type": "markdown",
   "metadata": {
    "deletable": true,
    "editable": true
   },
   "source": [
    "** Rainfall **\n",
    "\n",
    "Get 5-minute readings of rainfall across Singapore. "
   ]
  },
  {
   "cell_type": "code",
   "execution_count": 12,
   "metadata": {
    "collapsed": true,
    "deletable": true,
    "editable": true
   },
   "outputs": [],
   "source": [
    "# get the latest rainfall using date_time parameter \n",
    "rainfall_now = requests.get(\n",
    "                'https://api.data.gov.sg/v1/environment/rainfall',\n",
    "                 params = {\"date_time\": \"2017-04-12T16:00:00\"},\n",
    "                 headers = {\"api-key\":key}).json()"
   ]
  },
  {
   "cell_type": "code",
   "execution_count": 13,
   "metadata": {
    "collapsed": false,
    "deletable": true,
    "editable": true
   },
   "outputs": [
    {
     "name": "stdout",
     "output_type": "stream",
     "text": [
      "Timestamp : 2017-04-12T15:59:59+08:00\n"
     ]
    },
    {
     "data": {
      "text/plain": [
       "{'station_id': 'S50', 'value': 0}"
      ]
     },
     "execution_count": 13,
     "metadata": {},
     "output_type": "execute_result"
    }
   ],
   "source": [
    "# similar to the air temperature readings but with more stations \n",
    "\n",
    "# get the timestamp\n",
    "print(\"Timestamp : \" + rainfall_now['items'][0]['timestamp'])\n",
    "\n",
    "# location and rainfall value \n",
    "location_id_rainfall_station = 9\n",
    "rainfall_now['items'][0]['readings'][location_id_rainfall_station]"
   ]
  },
  {
   "cell_type": "code",
   "execution_count": 9,
   "metadata": {
    "collapsed": true,
    "deletable": true,
    "editable": true
   },
   "outputs": [],
   "source": [
    "# get the rainfall values for the whole day using the date parameter \n",
    "rainfall = requests.get(\n",
    "                'https://api.data.gov.sg/v1/environment/rainfall',\n",
    "                 params = {\"date\": \"2017-04-12\"},\n",
    "                 headers = {\"api-key\":key}).json()\n",
    "\n",
    "# does not work always "
   ]
  },
  {
   "cell_type": "code",
   "execution_count": null,
   "metadata": {
    "collapsed": false,
    "deletable": true,
    "editable": true
   },
   "outputs": [],
   "source": [
    "# timestamps of first 10 readings \n",
    "# readings are at five-minute intervals \n",
    "\n",
    "for i in range(0,10):\n",
    "    print(rainfall['items'][i]['timestamp'])"
   ]
  },
  {
   "cell_type": "markdown",
   "metadata": {
    "deletable": true,
    "editable": true
   },
   "source": [
    "** Relative humidity **\n",
    "\n",
    "Get latest per-minute readings of relative humidity across Singapore."
   ]
  },
  {
   "cell_type": "code",
   "execution_count": 19,
   "metadata": {
    "collapsed": true,
    "deletable": true,
    "editable": true
   },
   "outputs": [],
   "source": [
    "# get the latest relative humidity readings using date_time parameter \n",
    "humidity_now = requests.get(\n",
    "                'https://api.data.gov.sg/v1/environment/relative-humidity',\n",
    "                 params = {\"date_time\": \"2017-04-12T16:00:00\"},\n",
    "                 headers = {\"api-key\":key}).json()\n",
    "\n",
    "# the response is same as air temperature with "
   ]
  },
  {
   "cell_type": "code",
   "execution_count": 20,
   "metadata": {
    "collapsed": false,
    "deletable": true,
    "editable": true
   },
   "outputs": [
    {
     "name": "stdout",
     "output_type": "stream",
     "text": [
      "2017-04-12T15:59:59+08:00\n",
      "{'station_id': 'S50', 'value': 71.7}\n"
     ]
    }
   ],
   "source": [
    "# clementi road location id \n",
    "location_id = 2\n",
    "\n",
    "# get the station id for the Clementi Road weather station \n",
    "station_id = humidity_now['metadata']['stations'][location_id]['id']\n",
    "\n",
    "# get the air temperature reading for the particular station id\n",
    "print(humidity_now['items'][0]['timestamp'])\n",
    "print(humidity_now['items'][0]['readings'][location_id])"
   ]
  },
  {
   "cell_type": "code",
   "execution_count": 21,
   "metadata": {
    "collapsed": true,
    "deletable": true,
    "editable": true
   },
   "outputs": [],
   "source": [
    "# get the humidity readings for the whole day using date parameter \n",
    "humidity = requests.get(\n",
    "                'https://api.data.gov.sg/v1/environment/relative-humidity',\n",
    "                 params = {\"date\": \"2017-04-12\"},\n",
    "                 headers = {\"api-key\":key}).json()\n",
    "\n",
    "# responds with message: Endpoint request timed out "
   ]
  },
  {
   "cell_type": "code",
   "execution_count": 189,
   "metadata": {
    "collapsed": false,
    "deletable": true,
    "editable": true
   },
   "outputs": [
    {
     "data": {
      "text/plain": [
       "{'message': 'Endpoint request timed out'}"
      ]
     },
     "execution_count": 189,
     "metadata": {},
     "output_type": "execute_result"
    }
   ],
   "source": [
    "humidity"
   ]
  }
 ],
 "metadata": {
  "anaconda-cloud": {},
  "kernelspec": {
   "display_name": "Python [Root]",
   "language": "python",
   "name": "Python [Root]"
  },
  "language_info": {
   "codemirror_mode": {
    "name": "ipython",
    "version": 3
   },
   "file_extension": ".py",
   "mimetype": "text/x-python",
   "name": "python",
   "nbconvert_exporter": "python",
   "pygments_lexer": "ipython3",
   "version": "3.5.2"
  }
 },
 "nbformat": 4,
 "nbformat_minor": 2
}
